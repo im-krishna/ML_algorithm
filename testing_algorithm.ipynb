{
 "cells": [
  {
   "cell_type": "code",
   "execution_count": 1,
   "id": "1a439c3c",
   "metadata": {},
   "outputs": [],
   "source": [
    "import numpy as np"
   ]
  },
  {
   "cell_type": "code",
   "execution_count": 6,
   "id": "cd8c6782",
   "metadata": {},
   "outputs": [],
   "source": [
    "X = [4,8,2,9,15]\n",
    "y = [8,16,4,18,30]\n",
    "y = np.array(y)\n",
    "y = y.reshape(y.shape[0],1)\n",
    "\n",
    "X = np.array(X)\n",
    "X = X.reshape(1,X.shape[0])"
   ]
  },
  {
   "cell_type": "code",
   "execution_count": 7,
   "id": "c7352674",
   "metadata": {},
   "outputs": [
    {
     "data": {
      "text/plain": [
       "((1, 5), (5, 1))"
      ]
     },
     "execution_count": 7,
     "metadata": {},
     "output_type": "execute_result"
    }
   ],
   "source": [
    "X.shape,y.shape"
   ]
  },
  {
   "cell_type": "code",
   "execution_count": 8,
   "id": "7956c9fe",
   "metadata": {},
   "outputs": [],
   "source": [
    "from myLinearRegression import myLinearRegression"
   ]
  },
  {
   "cell_type": "code",
   "execution_count": 9,
   "id": "5c6b1205",
   "metadata": {},
   "outputs": [],
   "source": [
    "model = myLinearRegression(n_features=1,epochs = 100)"
   ]
  },
  {
   "cell_type": "code",
   "execution_count": 10,
   "id": "257c63c1",
   "metadata": {},
   "outputs": [
    {
     "name": "stdout",
     "output_type": "stream",
     "text": [
      "Loss for epoch 0: 290.70121931002274\n",
      "Loss for epoch 1: 187.51654944940438\n",
      "Loss for epoch 2: 120.95850902078568\n",
      "Loss for epoch 3: 78.02603753970754\n",
      "Loss for epoch 4: 50.33295654635783\n",
      "Loss for epoch 5: 32.469861996819276\n",
      "Loss for epoch 6: 20.947482556049742\n",
      "Loss for epoch 7: 13.515105511389255\n",
      "Loss for epoch 8: 8.720935565618083\n",
      "Loss for epoch 9: 5.628509538349348\n",
      "Loss for epoch 10: 3.633773063307591\n",
      "Loss for epoch 11: 2.347088101261048\n",
      "Loss for epoch 12: 1.5171232984544263\n",
      "Loss for epoch 13: 0.9817603732488257\n",
      "Loss for epoch 14: 0.6364268684102223\n",
      "Loss for epoch 15: 0.4136695719886907\n",
      "Loss for epoch 16: 0.2699785969359887\n",
      "Loss for epoch 17: 0.17728841136141033\n",
      "Loss for epoch 18: 0.11749567981990135\n",
      "Loss for epoch 19: 0.07892306244920909\n",
      "Loss for epoch 20: 0.054038230927016526\n",
      "Loss for epoch 21: 0.037982547014479034\n",
      "Loss for epoch 22: 0.027622004260533028\n",
      "Loss for epoch 23: 0.020935049307238114\n",
      "Loss for epoch 24: 0.01661770334977897\n",
      "Loss for epoch 25: 0.013828850460409067\n",
      "Loss for epoch 26: 0.012025938870382035\n",
      "Loss for epoch 27: 0.010859002048298896\n",
      "Loss for epoch 28: 0.010102298265128117\n",
      "Loss for epoch 29: 0.009610215513804834\n",
      "Loss for epoch 30: 0.009288828505378401\n",
      "Loss for epoch 31: 0.009077551849804799\n",
      "Loss for epoch 32: 0.008937305659802422\n",
      "Loss for epoch 33: 0.00884288191526313\n",
      "Loss for epoch 34: 0.008778020477978671\n",
      "Loss for epoch 35: 0.008732232933873967\n",
      "Loss for epoch 36: 0.00869875385045528\n",
      "Loss for epoch 37: 0.00867321925994673\n",
      "Loss for epoch 38: 0.008652814230654591\n",
      "Loss for epoch 39: 0.008635723018078148\n",
      "Loss for epoch 40: 0.008620774391465516\n",
      "Loss for epoch 41: 0.008607212855952293\n",
      "Loss for epoch 42: 0.008594551082141338\n",
      "Loss for epoch 43: 0.008582474717568242\n",
      "Loss for epoch 44: 0.00857078098647754\n",
      "Loss for epoch 45: 0.008559339084342756\n",
      "Loss for epoch 46: 0.008548064630825265\n",
      "Loss for epoch 47: 0.008536903190961818\n",
      "Loss for epoch 48: 0.008525819645702974\n",
      "Loss for epoch 49: 0.008514791335507005\n",
      "Loss for epoch 50: 0.00850380363769632\n",
      "Loss for epoch 51: 0.008492847113685368\n",
      "Loss for epoch 52: 0.008481915668832024\n",
      "Loss for epoch 53: 0.008471005365474675\n",
      "Loss for epoch 54: 0.008460113657292757\n",
      "Loss for epoch 55: 0.008449238895443056\n",
      "Loss for epoch 56: 0.008438380009997115\n",
      "Loss for epoch 57: 0.008427536304456673\n",
      "Loss for epoch 58: 0.008416707323207822\n",
      "Loss for epoch 59: 0.008405892766025366\n",
      "Loss for epoch 60: 0.008395092432923315\n",
      "Loss for epoch 61: 0.008384306188581736\n",
      "Loss for epoch 62: 0.008373533939401278\n",
      "Loss for epoch 63: 0.00836277561870175\n",
      "Loss for epoch 64: 0.008352031177175385\n",
      "Loss for epoch 65: 0.008341300576727667\n",
      "Loss for epoch 66: 0.008330583786506167\n",
      "Loss for epoch 67: 0.008319880780336467\n",
      "Loss for epoch 68: 0.008309191535071144\n",
      "Loss for epoch 69: 0.00829851602952296\n",
      "Loss for epoch 70: 0.008287854243776345\n",
      "Loss for epoch 71: 0.008277206158745143\n",
      "Loss for epoch 72: 0.008266571755885166\n",
      "Loss for epoch 73: 0.008255951017010765\n",
      "Loss for epoch 74: 0.008245343924174978\n",
      "Loss for epoch 75: 0.008234750459592792\n",
      "Loss for epoch 76: 0.008224170605592275\n",
      "Loss for epoch 77: 0.008213604344581304\n",
      "Loss for epoch 78: 0.008203051659028326\n",
      "Loss for epoch 79: 0.008192512531447923\n",
      "Loss for epoch 80: 0.0081819869443929\n",
      "Loss for epoch 81: 0.008171474880448306\n",
      "Loss for epoch 82: 0.008160976322228373\n",
      "Loss for epoch 83: 0.008150491252373642\n",
      "Loss for epoch 84: 0.008140019653549508\n",
      "Loss for epoch 85: 0.008129561508445588\n",
      "Loss for epoch 86: 0.008119116799774586\n",
      "Loss for epoch 87: 0.008108685510272417\n",
      "Loss for epoch 88: 0.0080982676226977\n",
      "Loss for epoch 89: 0.008087863119831225\n",
      "Loss for epoch 90: 0.008077471984475898\n",
      "Loss for epoch 91: 0.008067094199457746\n",
      "Loss for epoch 92: 0.00805672974762397\n",
      "Loss for epoch 93: 0.008046378611844214\n",
      "Loss for epoch 94: 0.00803604077501044\n",
      "Loss for epoch 95: 0.008025716220036408\n",
      "Loss for epoch 96: 0.008015404929857455\n",
      "Loss for epoch 97: 0.00800510688743148\n",
      "Loss for epoch 98: 0.007994822075737838\n",
      "Loss for epoch 99: 0.007984550477778062\n"
     ]
    }
   ],
   "source": [
    "model.my_fit(X,y)"
   ]
  },
  {
   "cell_type": "code",
   "execution_count": 11,
   "id": "729d269a",
   "metadata": {},
   "outputs": [
    {
     "data": {
      "text/plain": [
       "array([[1.98286304]])"
      ]
     },
     "execution_count": 11,
     "metadata": {},
     "output_type": "execute_result"
    }
   ],
   "source": [
    "model.W"
   ]
  },
  {
   "cell_type": "code",
   "execution_count": 12,
   "id": "7f96a369",
   "metadata": {},
   "outputs": [
    {
     "data": {
      "text/plain": [
       "array([[10.08961495]])"
      ]
     },
     "execution_count": 12,
     "metadata": {},
     "output_type": "execute_result"
    }
   ],
   "source": [
    "model.test(5)"
   ]
  },
  {
   "cell_type": "code",
   "execution_count": null,
   "id": "38357c9c",
   "metadata": {},
   "outputs": [],
   "source": []
  }
 ],
 "metadata": {
  "kernelspec": {
   "display_name": "myenv",
   "language": "python",
   "name": "python3"
  },
  "language_info": {
   "codemirror_mode": {
    "name": "ipython",
    "version": 3
   },
   "file_extension": ".py",
   "mimetype": "text/x-python",
   "name": "python",
   "nbconvert_exporter": "python",
   "pygments_lexer": "ipython3",
   "version": "3.13.3"
  }
 },
 "nbformat": 4,
 "nbformat_minor": 5
}
